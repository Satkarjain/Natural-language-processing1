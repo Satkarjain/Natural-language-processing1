{
  "nbformat": 4,
  "nbformat_minor": 0,
  "metadata": {
    "colab": {
      "name": "TF-IDF in gensim",
      "provenance": [],
      "authorship_tag": "ABX9TyMBn6vpgRK+8sNSUDSjG8yy",
      "include_colab_link": true
    },
    "kernelspec": {
      "name": "python3",
      "display_name": "Python 3"
    }
  },
  "cells": [
    {
      "cell_type": "markdown",
      "metadata": {
        "id": "view-in-github",
        "colab_type": "text"
      },
      "source": [
        "<a href=\"https://colab.research.google.com/github/Satkarjain/Natural-language-processing1/blob/master/TF_IDF_in_gensim.ipynb\" target=\"_parent\"><img src=\"https://colab.research.google.com/assets/colab-badge.svg\" alt=\"Open In Colab\"/></a>"
      ]
    },
    {
      "cell_type": "markdown",
      "metadata": {
        "id": "1QHXD8EvXBgp",
        "colab_type": "text"
      },
      "source": [
        ""
      ]
    },
    {
      "cell_type": "markdown",
      "metadata": {
        "id": "ZaqHCutTXJ94",
        "colab_type": "text"
      },
      "source": [
        ""
      ]
    },
    {
      "cell_type": "code",
      "metadata": {
        "id": "idqONYO5XKO4",
        "colab_type": "code",
        "colab": {
          "base_uri": "https://localhost:8080/",
          "height": 67
        },
        "outputId": "e6ba37ea-37c2-4d78-aa49-1fc1bf97a184"
      },
      "source": [
        "import gensim\n",
        "from gensim import corpora\n",
        "from pprint import pprint\n",
        "\n",
        "text = [\"I like to play Football\",\n",
        "       \"Football is the best game\",\n",
        "       \"Which game do you like to play ?\"]\n",
        "\n",
        "tokens = [[token for token in sentence.split()] for sentence in text]\n",
        "\n",
        "gensim_dictionary = corpora.Dictionary()\n",
        "gensim_corpus = [gensim_dictionary.doc2bow(token, allow_update=True) for token in tokens]\n",
        "\n",
        "from gensim import models\n",
        "import numpy as np\n",
        "\n",
        "tfidf = models.TfidfModel(gensim_corpus, smartirs='ntc')\n",
        "\n",
        "for sent in tfidf[gensim_corpus]:\n",
        "    print([[gensim_dictionary[id], np.around(frequency, decimals=2)] for id, frequency in sent])"
      ],
      "execution_count": 39,
      "outputs": [
        {
          "output_type": "stream",
          "text": [
            "[['Football', 0.3], ['I', 0.8], ['like', 0.3], ['play', 0.3], ['to', 0.3]]\n",
            "[['Football', 0.2], ['best', 0.55], ['game', 0.2], ['is', 0.55], ['the', 0.55]]\n",
            "[['like', 0.17], ['play', 0.17], ['to', 0.17], ['game', 0.17], ['?', 0.47], ['Which', 0.47], ['do', 0.47], ['you', 0.47]]\n"
          ],
          "name": "stdout"
        }
      ]
    },
    {
      "cell_type": "code",
      "metadata": {
        "id": "jiAgBmcJXWz4",
        "colab_type": "code",
        "colab": {}
      },
      "source": [
        ""
      ],
      "execution_count": 0,
      "outputs": []
    }
  ]
}