{
  "nbformat": 4,
  "nbformat_minor": 0,
  "metadata": {
    "colab": {
      "name": "LDA using gensim",
      "provenance": [],
      "authorship_tag": "ABX9TyNFwuNmHsxbdT5QSMOucWJ+"
    },
    "kernelspec": {
      "name": "python3",
      "display_name": "Python 3"
    }
  },
  "cells": [
    {
      "cell_type": "markdown",
      "metadata": {
        "id": "1QHXD8EvXBgp",
        "colab_type": "text"
      },
      "source": [
        ""
      ]
    },
    {
      "cell_type": "markdown",
      "metadata": {
        "id": "ZaqHCutTXJ94",
        "colab_type": "text"
      },
      "source": [
        ""
      ]
    },
    {
      "cell_type": "code",
      "metadata": {
        "id": "jiAgBmcJXWz4",
        "colab_type": "code",
        "colab": {}
      },
      "source": [
        "pip install wikipedia"
      ],
      "execution_count": 0,
      "outputs": []
    },
    {
      "cell_type": "code",
      "metadata": {
        "id": "PDTnNn6EaiBd",
        "colab_type": "code",
        "colab": {}
      },
      "source": [
        "pip install pyLDAvis"
      ],
      "execution_count": 0,
      "outputs": []
    },
    {
      "cell_type": "code",
      "metadata": {
        "id": "fWmgYN7fby2U",
        "colab_type": "code",
        "colab": {
          "base_uri": "https://localhost:8080/",
          "height": 118
        },
        "outputId": "22f05560-7f14-44f2-e5f8-21c32020dd9f"
      },
      "source": [
        "pip install wikipedia-api"
      ],
      "execution_count": 101,
      "outputs": [
        {
          "output_type": "stream",
          "text": [
            "Requirement already satisfied: wikipedia-api in /usr/local/lib/python3.6/dist-packages (0.5.3)\n",
            "Requirement already satisfied: requests in /usr/local/lib/python3.6/dist-packages (from wikipedia-api) (2.21.0)\n",
            "Requirement already satisfied: urllib3<1.25,>=1.21.1 in /usr/local/lib/python3.6/dist-packages (from requests->wikipedia-api) (1.24.3)\n",
            "Requirement already satisfied: chardet<3.1.0,>=3.0.2 in /usr/local/lib/python3.6/dist-packages (from requests->wikipedia-api) (3.0.4)\n",
            "Requirement already satisfied: idna<2.9,>=2.5 in /usr/local/lib/python3.6/dist-packages (from requests->wikipedia-api) (2.8)\n",
            "Requirement already satisfied: certifi>=2017.4.17 in /usr/local/lib/python3.6/dist-packages (from requests->wikipedia-api) (2019.11.28)\n"
          ],
          "name": "stdout"
        }
      ]
    },
    {
      "cell_type": "markdown",
      "metadata": {
        "id": "t71QPrX2a0kg",
        "colab_type": "text"
      },
      "source": [
        "Now we will download four Wikipedia articles on the topics \"Global Warming\", \"Artifical Intelligence\", \"Eiffel Tower\", and \"Mona Lisa\". Next, we will preprocess the articles, followed by the topic modeling step. Finally, we will see how we can visualize the LDA model."
      ]
    },
    {
      "cell_type": "code",
      "metadata": {
        "id": "txz1hKbfaxoM",
        "colab_type": "code",
        "colab": {
          "base_uri": "https://localhost:8080/",
          "height": 101
        },
        "outputId": "1d36c8a0-592b-429d-c331-a9cb14863730"
      },
      "source": [
        "import wikipedia\n",
        "import nltk\n",
        "\n",
        "nltk.download('stopwords')\n",
        "en_stop = set(nltk.corpus.stopwords.words('english'))\n",
        "nltk.download('wordnet')\n",
        "  "
      ],
      "execution_count": 102,
      "outputs": [
        {
          "output_type": "stream",
          "text": [
            "[nltk_data] Downloading package stopwords to /root/nltk_data...\n",
            "[nltk_data]   Package stopwords is already up-to-date!\n",
            "[nltk_data] Downloading package wordnet to /root/nltk_data...\n",
            "[nltk_data]   Package wordnet is already up-to-date!\n"
          ],
          "name": "stdout"
        },
        {
          "output_type": "execute_result",
          "data": {
            "text/plain": [
              "True"
            ]
          },
          "metadata": {
            "tags": []
          },
          "execution_count": 102
        }
      ]
    },
    {
      "cell_type": "code",
      "metadata": {
        "id": "-Xve28YIgkTP",
        "colab_type": "code",
        "colab": {}
      },
      "source": [
        "artificial_intelligence = wikipedia.page(\"Artificial Intelligence\")\n",
        "mona_lisa = wikipedia.page(\"Mona Lisa\")\n",
        "eiffel_tower = wikipedia.page(\"Eiffel Tower\")"
      ],
      "execution_count": 0,
      "outputs": []
    },
    {
      "cell_type": "code",
      "metadata": {
        "id": "HRBaZ8Arg3eS",
        "colab_type": "code",
        "colab": {}
      },
      "source": [
        "corpus = [artificial_intelligence.content, mona_lisa.content, eiffel_tower.content]"
      ],
      "execution_count": 0,
      "outputs": []
    },
    {
      "cell_type": "code",
      "metadata": {
        "id": "IEfm5AdJcvET",
        "colab_type": "code",
        "colab": {}
      },
      "source": [
        "import re\n",
        "from nltk.stem import WordNetLemmatizer\n",
        "\n",
        "stemmer = WordNetLemmatizer()\n",
        "\n",
        "def preprocess_text(document):\n",
        "        # Remove all the special characters\n",
        "        document = re.sub(r'\\W', ' ', str(document))\n",
        "\n",
        "        # remove all single characters\n",
        "        document = re.sub(r'\\s+[a-zA-Z]\\s+', ' ', document)\n",
        "\n",
        "        # Remove single characters from the start\n",
        "        document = re.sub(r'\\^[a-zA-Z]\\s+', ' ', document)\n",
        "\n",
        "        # Substituting multiple spaces with single space\n",
        "        document = re.sub(r'\\s+', ' ', document, flags=re.I)\n",
        "\n",
        "        # Removing prefixed 'b'\n",
        "        document = re.sub(r'^b\\s+', '', document)\n",
        "\n",
        "        # Converting to Lowercase\n",
        "        document = document.lower()\n",
        "\n",
        "        # Lemmatization\n",
        "        tokens = document.split()\n",
        "        tokens = [stemmer.lemmatize(word) for word in tokens]\n",
        "        tokens = [word for word in tokens if word not in en_stop]\n",
        "        tokens = [word for word in tokens if len(word)  > 5]\n",
        "\n",
        "        return tokens"
      ],
      "execution_count": 0,
      "outputs": []
    },
    {
      "cell_type": "code",
      "metadata": {
        "id": "mHrOYqvOfc3c",
        "colab_type": "code",
        "colab": {}
      },
      "source": [
        "processed_data = [];\n",
        "for doc in corpus:\n",
        "    tokens = preprocess_text(doc)\n",
        "    processed_data.append(tokens)"
      ],
      "execution_count": 0,
      "outputs": []
    },
    {
      "cell_type": "code",
      "metadata": {
        "id": "kcT4z-sgiVH0",
        "colab_type": "code",
        "colab": {}
      },
      "source": [
        "from gensim import corpora\n",
        "\n",
        "gensim_dictionary = corpora.Dictionary(processed_data)\n",
        "gensim_corpus = [gensim_dictionary.doc2bow(token, allow_update=True) for token in processed_data]"
      ],
      "execution_count": 0,
      "outputs": []
    },
    {
      "cell_type": "code",
      "metadata": {
        "id": "txxjN5bXi4Mv",
        "colab_type": "code",
        "colab": {
          "base_uri": "https://localhost:8080/",
          "height": 70
        },
        "outputId": "58a71541-6938-4237-bbe6-e210e6b8c9ae"
      },
      "source": [
        "import pickle\n",
        "\n",
        "pickle.dump(gensim_corpus, open('gensim_corpus_corpus.pkl', 'wb'))\n",
        "gensim_dictionary.save('gensim_dictionary.gensim')"
      ],
      "execution_count": 108,
      "outputs": [
        {
          "output_type": "stream",
          "text": [
            "/usr/local/lib/python3.6/dist-packages/smart_open/smart_open_lib.py:402: UserWarning: This function is deprecated, use smart_open.open instead. See the migration notes for details: https://github.com/RaRe-Technologies/smart_open/blob/master/README.rst#migrating-to-the-new-open-function\n",
            "  'See the migration notes for details: %s' % _MIGRATION_NOTES_URL\n"
          ],
          "name": "stderr"
        }
      ]
    },
    {
      "cell_type": "code",
      "metadata": {
        "id": "0WVz7q9hjBOP",
        "colab_type": "code",
        "colab": {
          "base_uri": "https://localhost:8080/",
          "height": 70
        },
        "outputId": "5d876547-f01e-4493-c016-33e07155f46b"
      },
      "source": [
        "import pickle\n",
        "\n",
        "pickle.dump(gensim_corpus, open('gensim_corpus_corpus.pkl', 'wb'))\n",
        "gensim_dictionary.save('gensim_dictionary.gensim')"
      ],
      "execution_count": 109,
      "outputs": [
        {
          "output_type": "stream",
          "text": [
            "/usr/local/lib/python3.6/dist-packages/smart_open/smart_open_lib.py:402: UserWarning: This function is deprecated, use smart_open.open instead. See the migration notes for details: https://github.com/RaRe-Technologies/smart_open/blob/master/README.rst#migrating-to-the-new-open-function\n",
            "  'See the migration notes for details: %s' % _MIGRATION_NOTES_URL\n"
          ],
          "name": "stderr"
        }
      ]
    },
    {
      "cell_type": "code",
      "metadata": {
        "id": "ppL0sAb4oNdz",
        "colab_type": "code",
        "colab": {
          "base_uri": "https://localhost:8080/",
          "height": 70
        },
        "outputId": "d3d49e6d-2db3-400d-c87a-b46b2d9788a4"
      },
      "source": [
        "import gensim\n",
        "\n",
        "lda_model = gensim.models.ldamodel.LdaModel(gensim_corpus, num_topics=4, id2word=gensim_dictionary, passes=20)\n",
        "lda_model.save('gensim_model.gensim')"
      ],
      "execution_count": 110,
      "outputs": [
        {
          "output_type": "stream",
          "text": [
            "/usr/local/lib/python3.6/dist-packages/smart_open/smart_open_lib.py:402: UserWarning: This function is deprecated, use smart_open.open instead. See the migration notes for details: https://github.com/RaRe-Technologies/smart_open/blob/master/README.rst#migrating-to-the-new-open-function\n",
            "  'See the migration notes for details: %s' % _MIGRATION_NOTES_URL\n"
          ],
          "name": "stderr"
        }
      ]
    },
    {
      "cell_type": "code",
      "metadata": {
        "id": "ZCf1Lvyap1YN",
        "colab_type": "code",
        "colab": {
          "base_uri": "https://localhost:8080/",
          "height": 104
        },
        "outputId": "2f2a4bd9-f951-4c6d-db99-ee317ae26581"
      },
      "source": [
        "topics = lda_model.print_topics(num_words=50)\n",
        "for topic in topics:\n",
        "    print(topic)"
      ],
      "execution_count": 111,
      "outputs": [
        {
          "output_type": "stream",
          "text": [
            "(0, '0.017*\"intelligence\" + 0.014*\"machine\" + 0.013*\"artificial\" + 0.011*\"problem\" + 0.010*\"learning\" + 0.009*\"system\" + 0.008*\"network\" + 0.007*\"research\" + 0.007*\"knowledge\" + 0.007*\"computer\" + 0.006*\"algorithm\" + 0.006*\"neural\" + 0.005*\"example\" + 0.005*\"intelligent\" + 0.005*\"approach\" + 0.005*\"researcher\" + 0.005*\"theory\" + 0.004*\"symbolic\" + 0.004*\"application\" + 0.004*\"search\" + 0.003*\"include\" + 0.003*\"general\" + 0.003*\"decision\" + 0.003*\"language\" + 0.003*\"reasoning\" + 0.003*\"technology\" + 0.003*\"possible\" + 0.003*\"people\" + 0.003*\"function\" + 0.003*\"process\" + 0.002*\"behavior\" + 0.002*\"information\" + 0.002*\"natural\" + 0.002*\"program\" + 0.002*\"different\" + 0.002*\"classifier\" + 0.002*\"driving\" + 0.002*\"number\" + 0.002*\"method\" + 0.002*\"solution\" + 0.002*\"processing\" + 0.002*\"action\" + 0.002*\"patient\" + 0.002*\"autonomous\" + 0.002*\"recognition\" + 0.002*\"others\" + 0.002*\"development\" + 0.002*\"science\" + 0.002*\"project\" + 0.002*\"question\"')\n",
            "(1, '0.027*\"eiffel\" + 0.008*\"second\" + 0.006*\"french\" + 0.006*\"structure\" + 0.006*\"exposition\" + 0.005*\"tallest\" + 0.005*\"engineer\" + 0.005*\"design\" + 0.004*\"france\" + 0.004*\"restaurant\" + 0.004*\"original\" + 0.004*\"million\" + 0.004*\"company\" + 0.004*\"building\" + 0.004*\"hydraulic\" + 0.004*\"construction\" + 0.004*\"visitor\" + 0.004*\"public\" + 0.003*\"installed\" + 0.003*\"monument\" + 0.003*\"completed\" + 0.003*\"height\" + 0.003*\"replaced\" + 0.003*\"gustave\" + 0.002*\"system\" + 0.002*\"engineering\" + 0.002*\"mechanism\" + 0.002*\"various\" + 0.002*\"aerial\" + 0.002*\"drawing\" + 0.002*\"television\" + 0.002*\"protest\" + 0.002*\"pillar\" + 0.002*\"minute\" + 0.002*\"structural\" + 0.002*\"copyright\" + 0.002*\"german\" + 0.002*\"transmitter\" + 0.002*\"century\" + 0.002*\"artist\" + 0.002*\"including\" + 0.002*\"together\" + 0.002*\"concern\" + 0.002*\"although\" + 0.002*\"driven\" + 0.002*\"passenger\" + 0.002*\"exhibition\" + 0.002*\"fitted\" + 0.002*\"communication\" + 0.002*\"mounted\"')\n",
            "(2, '0.000*\"painting\" + 0.000*\"intelligence\" + 0.000*\"machine\" + 0.000*\"learning\" + 0.000*\"problem\" + 0.000*\"system\" + 0.000*\"eiffel\" + 0.000*\"artificial\" + 0.000*\"network\" + 0.000*\"theory\" + 0.000*\"algorithm\" + 0.000*\"leonardo\" + 0.000*\"research\" + 0.000*\"knowledge\" + 0.000*\"computer\" + 0.000*\"second\" + 0.000*\"approach\" + 0.000*\"louvre\" + 0.000*\"researcher\" + 0.000*\"example\" + 0.000*\"symbolic\" + 0.000*\"original\" + 0.000*\"people\" + 0.000*\"application\" + 0.000*\"french\" + 0.000*\"neural\" + 0.000*\"portrait\" + 0.000*\"reasoning\" + 0.000*\"century\" + 0.000*\"intelligent\" + 0.000*\"search\" + 0.000*\"general\" + 0.000*\"italian\" + 0.000*\"structure\" + 0.000*\"million\" + 0.000*\"design\" + 0.000*\"company\" + 0.000*\"include\" + 0.000*\"museum\" + 0.000*\"decision\" + 0.000*\"process\" + 0.000*\"exposition\" + 0.000*\"natural\" + 0.000*\"considered\" + 0.000*\"project\" + 0.000*\"public\" + 0.000*\"however\" + 0.000*\"described\" + 0.000*\"method\" + 0.000*\"several\"')\n",
            "(3, '0.038*\"painting\" + 0.018*\"leonardo\" + 0.010*\"portrait\" + 0.010*\"louvre\" + 0.007*\"century\" + 0.006*\"french\" + 0.006*\"museum\" + 0.005*\"giocondo\" + 0.005*\"italian\" + 0.004*\"subject\" + 0.004*\"picture\" + 0.004*\"original\" + 0.003*\"painted\" + 0.003*\"vasari\" + 0.003*\"million\" + 0.003*\"considered\" + 0.003*\"several\" + 0.003*\"display\" + 0.003*\"version\" + 0.003*\"landscape\" + 0.003*\"renaissance\" + 0.002*\"however\" + 0.002*\"described\" + 0.002*\"france\" + 0.002*\"sitter\" + 0.002*\"historian\" + 0.002*\"people\" + 0.002*\"second\" + 0.002*\"public\" + 0.002*\"expert\" + 0.002*\"history\" + 0.002*\"artist\" + 0.002*\"created\" + 0.002*\"sketch\" + 0.002*\"earlier\" + 0.002*\"october\" + 0.002*\"warping\" + 0.002*\"column\" + 0.002*\"gallery\" + 0.002*\"peruggia\" + 0.002*\"humidity\" + 0.002*\"raphael\" + 0.002*\"crosspiece\" + 0.002*\"exhibited\" + 0.002*\"called\" + 0.002*\"result\" + 0.002*\"change\" + 0.002*\"university\" + 0.002*\"national\" + 0.002*\"believed\"')\n"
          ],
          "name": "stdout"
        }
      ]
    },
    {
      "cell_type": "code",
      "metadata": {
        "id": "ZFiyoYBfp-MV",
        "colab_type": "code",
        "colab": {
          "base_uri": "https://localhost:8080/",
          "height": 121
        },
        "outputId": "cf1bd53b-1329-47e9-a844-401ac4c1f6f5"
      },
      "source": [
        "lda_model = gensim.models.ldamodel.LdaModel(gensim_corpus, num_topics=3, id2word=gensim_dictionary, passes=15)\n",
        "lda_model.save('gensim_model.gensim')\n",
        "topics = lda_model.print_topics(num_words=5)\n",
        "for topic in topics:\n",
        "    print(topic)"
      ],
      "execution_count": 112,
      "outputs": [
        {
          "output_type": "stream",
          "text": [
            "(0, '0.034*\"painting\" + 0.016*\"leonardo\" + 0.009*\"portrait\" + 0.009*\"louvre\" + 0.006*\"century\"')\n",
            "(1, '0.016*\"intelligence\" + 0.014*\"machine\" + 0.012*\"artificial\" + 0.011*\"problem\" + 0.010*\"learning\"')\n",
            "(2, '0.025*\"eiffel\" + 0.007*\"second\" + 0.006*\"french\" + 0.006*\"structure\" + 0.006*\"exposition\"')\n"
          ],
          "name": "stdout"
        },
        {
          "output_type": "stream",
          "text": [
            "/usr/local/lib/python3.6/dist-packages/smart_open/smart_open_lib.py:402: UserWarning: This function is deprecated, use smart_open.open instead. See the migration notes for details: https://github.com/RaRe-Technologies/smart_open/blob/master/README.rst#migrating-to-the-new-open-function\n",
            "  'See the migration notes for details: %s' % _MIGRATION_NOTES_URL\n"
          ],
          "name": "stderr"
        }
      ]
    },
    {
      "cell_type": "code",
      "metadata": {
        "id": "h4HhRLqEqigX",
        "colab_type": "code",
        "colab": {
          "base_uri": "https://localhost:8080/",
          "height": 34
        },
        "outputId": "2f6e0693-42a5-4c2b-e4bd-e0881b78d3ec"
      },
      "source": [
        "test_doc = ' eiffel structures are build to remember an event happened in the history.'\n",
        "test_doc = preprocess_text(test_doc)\n",
        "bow_test_doc = gensim_dictionary.doc2bow(test_doc)\n",
        "\n",
        "print(lda_model.get_document_topics(bow_test_doc))"
      ],
      "execution_count": 113,
      "outputs": [
        {
          "output_type": "stream",
          "text": [
            "[(0, 0.090093866), (1, 0.08464003), (2, 0.8252661)]\n"
          ],
          "name": "stdout"
        }
      ]
    },
    {
      "cell_type": "code",
      "metadata": {
        "id": "TmwG1NwprQk0",
        "colab_type": "code",
        "colab": {
          "base_uri": "https://localhost:8080/",
          "height": 84
        },
        "outputId": "11eb1272-8cdf-48f4-ef5a-b526e990aa59"
      },
      "source": [
        "print('\\nPerplexity:', lda_model.log_perplexity(gensim_corpus))\n",
        "\n",
        "from gensim.models import CoherenceModel\n",
        "\n",
        "coherence_score_lda = CoherenceModel(model=lda_model, texts=processed_data, dictionary=gensim_dictionary, coherence='c_v')\n",
        "coherence_score = coherence_score_lda.get_coherence()\n",
        "\n",
        "print('\\nCoherence Score:', coherence_score)"
      ],
      "execution_count": 114,
      "outputs": [
        {
          "output_type": "stream",
          "text": [
            "\n",
            "Perplexity: -7.587623205998928\n",
            "\n",
            "Coherence Score: 0.6545631673869586\n"
          ],
          "name": "stdout"
        }
      ]
    },
    {
      "cell_type": "code",
      "metadata": {
        "id": "EC3SeaGVuFUN",
        "colab_type": "code",
        "colab": {
          "base_uri": "https://localhost:8080/",
          "height": 1000
        },
        "outputId": "c1885b57-a153-41bd-d904-ce2350427023"
      },
      "source": [
        "gensim_dictionary = gensim.corpora.Dictionary.load('gensim_dictionary.gensim')\n",
        "gensim_corpus = pickle.load(open('gensim_corpus_corpus.pkl', 'rb'))\n",
        "lda_model = gensim.models.ldamodel.LdaModel.load('gensim_model.gensim')\n",
        "\n",
        "import pyLDAvis.gensim\n",
        "\n",
        "lda_visualization = pyLDAvis.gensim.prepare(lda_model, gensim_corpus, gensim_dictionary, sort_topics=False)\n",
        "pyLDAvis.display(lda_visualization)"
      ],
      "execution_count": 115,
      "outputs": [
        {
          "output_type": "stream",
          "text": [
            "/usr/local/lib/python3.6/dist-packages/smart_open/smart_open_lib.py:402: UserWarning: This function is deprecated, use smart_open.open instead. See the migration notes for details: https://github.com/RaRe-Technologies/smart_open/blob/master/README.rst#migrating-to-the-new-open-function\n",
            "  'See the migration notes for details: %s' % _MIGRATION_NOTES_URL\n",
            "/usr/local/lib/python3.6/dist-packages/pyLDAvis/_prepare.py:257: FutureWarning: Sorting because non-concatenation axis is not aligned. A future version\n",
            "of pandas will change to not sort by default.\n",
            "\n",
            "To accept the future behavior, pass 'sort=False'.\n",
            "\n",
            "To retain the current behavior and silence the warning, pass 'sort=True'.\n",
            "\n",
            "  return pd.concat([default_term_info] + list(topic_dfs))\n"
          ],
          "name": "stderr"
        },
        {
          "output_type": "execute_result",
          "data": {
            "text/html": [
              "\n",
              "<link rel=\"stylesheet\" type=\"text/css\" href=\"https://cdn.rawgit.com/bmabey/pyLDAvis/files/ldavis.v1.0.0.css\">\n",
              "\n",
              "\n",
              "<div id=\"ldavis_el1271399833344776407244508303\"></div>\n",
              "<script type=\"text/javascript\">\n",
              "\n",
              "var ldavis_el1271399833344776407244508303_data = {\"mdsDat\": {\"x\": [0.07729914993320444, -0.16148685612486566, 0.08418770619166112], \"y\": [0.10324882076494683, -0.002895030335058868, -0.10035379042988801], \"topics\": [1, 2, 3], \"cluster\": [1, 1, 1], \"Freq\": [17.736408233642578, 61.54171371459961, 20.721874237060547]}, \"tinfo\": {\"Category\": [\"Default\", \"Default\", \"Default\", \"Default\", \"Default\", \"Default\", \"Default\", \"Default\", \"Default\", \"Default\", \"Default\", \"Default\", \"Default\", \"Default\", \"Default\", \"Default\", \"Default\", \"Default\", \"Default\", \"Default\", \"Default\", \"Default\", \"Default\", \"Default\", \"Default\", \"Default\", \"Default\", \"Default\", \"Default\", \"Default\", \"Topic1\", \"Topic1\", \"Topic1\", \"Topic1\", \"Topic1\", \"Topic1\", \"Topic1\", \"Topic1\", \"Topic1\", \"Topic1\", \"Topic1\", \"Topic1\", \"Topic1\", \"Topic1\", \"Topic1\", \"Topic1\", \"Topic1\", \"Topic1\", \"Topic1\", \"Topic1\", \"Topic1\", \"Topic1\", \"Topic1\", \"Topic1\", \"Topic1\", \"Topic1\", \"Topic1\", \"Topic1\", \"Topic1\", \"Topic1\", \"Topic1\", \"Topic1\", \"Topic1\", \"Topic1\", \"Topic1\", \"Topic1\", \"Topic1\", \"Topic1\", \"Topic1\", \"Topic1\", \"Topic1\", \"Topic1\", \"Topic1\", \"Topic1\", \"Topic1\", \"Topic1\", \"Topic1\", \"Topic1\", \"Topic1\", \"Topic1\", \"Topic1\", \"Topic1\", \"Topic1\", \"Topic2\", \"Topic2\", \"Topic2\", \"Topic2\", \"Topic2\", \"Topic2\", \"Topic2\", \"Topic2\", \"Topic2\", \"Topic2\", \"Topic2\", \"Topic2\", \"Topic2\", \"Topic2\", \"Topic2\", \"Topic2\", \"Topic2\", \"Topic2\", \"Topic2\", \"Topic2\", \"Topic2\", \"Topic2\", \"Topic2\", \"Topic2\", \"Topic2\", \"Topic2\", \"Topic2\", \"Topic2\", \"Topic2\", \"Topic2\", \"Topic2\", \"Topic2\", \"Topic2\", \"Topic2\", \"Topic2\", \"Topic2\", \"Topic2\", \"Topic2\", \"Topic2\", \"Topic2\", \"Topic3\", \"Topic3\", \"Topic3\", \"Topic3\", \"Topic3\", \"Topic3\", \"Topic3\", \"Topic3\", \"Topic3\", \"Topic3\", \"Topic3\", \"Topic3\", \"Topic3\", \"Topic3\", \"Topic3\", \"Topic3\", \"Topic3\", \"Topic3\", \"Topic3\", \"Topic3\", \"Topic3\", \"Topic3\", \"Topic3\", \"Topic3\", \"Topic3\", \"Topic3\", \"Topic3\", \"Topic3\", \"Topic3\", \"Topic3\", \"Topic3\", \"Topic3\", \"Topic3\", \"Topic3\", \"Topic3\", \"Topic3\", \"Topic3\", \"Topic3\", \"Topic3\", \"Topic3\", \"Topic3\", \"Topic3\", \"Topic3\", \"Topic3\", \"Topic3\", \"Topic3\", \"Topic3\", \"Topic3\", \"Topic3\", \"Topic3\", \"Topic3\", \"Topic3\", \"Topic3\"], \"Freq\": [59.0, 49.0, 28.0, 95.0, 82.0, 72.0, 16.0, 16.0, 56.0, 64.0, 21.0, 21.0, 47.0, 11.0, 11.0, 15.0, 13.0, 10.0, 40.0, 8.0, 8.0, 36.0, 11.0, 15.0, 8.0, 11.0, 32.0, 12.0, 7.0, 7.0, 27.755332946777344, 58.31478500366211, 15.773944854736328, 7.987795829772949, 7.9874749183654785, 15.177216529846191, 4.991983413696289, 4.392765522003174, 3.794437885284424, 3.7936184406280518, 3.195618152618408, 3.195302724838257, 3.195044755935669, 3.1949844360351562, 3.194873094558716, 3.1946704387664795, 3.194382667541504, 2.5962026119232178, 2.596214771270752, 2.596129894256592, 2.5960190296173096, 2.595987558364868, 2.5959548950195312, 2.5959219932556152, 2.5958187580108643, 2.595783233642578, 2.5957887172698975, 2.595717191696167, 2.595689535140991, 2.5956764221191406, 9.787006378173828, 10.386178016662598, 6.790950775146484, 6.193833827972412, 4.993951797485352, 4.393776893615723, 9.791438102722168, 3.1957948207855225, 3.1954946517944336, 4.396017074584961, 4.394587993621826, 6.196749687194824, 3.195842742919922, 4.398416042327881, 4.398565292358398, 4.398357391357422, 3.7954845428466797, 3.801116943359375, 3.803091049194336, 3.207862615585327, 3.2016143798828125, 3.200997829437256, 3.1999623775482178, 95.0755844116211, 81.63728332519531, 72.42066955566406, 56.48617935180664, 47.25905990600586, 39.70288848876953, 36.34553146362305, 32.15532684326172, 29.636919021606445, 29.635456085205078, 63.190364837646484, 21.251815795898438, 20.4071044921875, 17.899459838867188, 17.897964477539062, 16.214662551879883, 15.380228042602539, 38.034793853759766, 13.703983306884766, 12.86067008972168, 12.026262283325195, 12.025482177734375, 12.020545959472656, 27.9606876373291, 11.185711860656738, 11.18442440032959, 11.183731079101562, 27.11845588684082, 10.34948444366455, 10.348821640014648, 39.68794631958008, 20.415781021118164, 53.968299865722656, 29.641664505004883, 17.894149780273438, 17.060710906982422, 18.736202239990234, 14.536526679992676, 17.903186798095703, 15.382868766784668, 49.233192443847656, 11.034974098205566, 11.034500122070312, 9.760956764221191, 7.852233409881592, 7.216291904449463, 7.216373443603516, 5.9425153732299805, 5.941612720489502, 4.668854236602783, 4.032010078430176, 4.031938552856445, 4.031487941741943, 3.3956806659698486, 3.395569324493408, 3.3952622413635254, 3.3952038288116455, 2.759108066558838, 2.7588160037994385, 2.7588534355163574, 2.7587409019470215, 2.7587413787841797, 2.758761167526245, 2.7587080001831055, 2.758671998977661, 2.7585928440093994, 2.75852632522583, 2.7585110664367676, 9.123348236083984, 2.122511148452759, 7.215776443481445, 4.669295310974121, 5.305619716644287, 5.9429612159729, 14.859929084777832, 4.0323896408081055, 4.032423973083496, 4.032035827636719, 4.032068252563477, 4.031986713409424, 8.490200996398926, 7.853911399841309, 11.035623550415039, 7.216416358947754, 7.215956687927246, 7.215596675872803, 7.217437744140625, 6.578612804412842, 4.04846715927124, 4.033957004547119, 4.033732891082764, 4.032865047454834, 4.032817363739014], \"Term\": [\"painting\", \"eiffel\", \"leonardo\", \"intelligence\", \"machine\", \"artificial\", \"portrait\", \"louvre\", \"learning\", \"problem\", \"french\", \"second\", \"network\", \"structure\", \"exposition\", \"century\", \"museum\", \"tallest\", \"knowledge\", \"giocondo\", \"italian\", \"algorithm\", \"engineer\", \"original\", \"restaurant\", \"france\", \"neural\", \"design\", \"hydraulic\", \"construction\", \"leonardo\", \"painting\", \"portrait\", \"giocondo\", \"italian\", \"louvre\", \"vasari\", \"renaissance\", \"historian\", \"sitter\", \"crosspiece\", \"peruggia\", \"raphael\", \"humidity\", \"gallery\", \"earlier\", \"warping\", \"restorer\", \"francis\", \"trimmed\", \"gioconda\", \"revealed\", \"cleaning\", \"denizard\", \"executed\", \"francesco\", \"palace\", \"revarnishing\", \"conservation\", \"z\\u00f6llner\", \"museum\", \"century\", \"subject\", \"picture\", \"painted\", \"landscape\", \"french\", \"column\", \"exhibited\", \"display\", \"version\", \"original\", \"sketch\", \"several\", \"million\", \"considered\", \"france\", \"however\", \"described\", \"people\", \"second\", \"expert\", \"public\", \"intelligence\", \"machine\", \"artificial\", \"learning\", \"network\", \"knowledge\", \"algorithm\", \"neural\", \"intelligent\", \"approach\", \"problem\", \"symbolic\", \"search\", \"decision\", \"language\", \"possible\", \"function\", \"computer\", \"behavior\", \"program\", \"classifier\", \"solution\", \"processing\", \"researcher\", \"autonomous\", \"patient\", \"development\", \"theory\", \"understanding\", \"ability\", \"research\", \"application\", \"system\", \"example\", \"reasoning\", \"technology\", \"include\", \"process\", \"general\", \"people\", \"eiffel\", \"structure\", \"exposition\", \"tallest\", \"restaurant\", \"construction\", \"hydraulic\", \"completed\", \"monument\", \"gustave\", \"transmitter\", \"copyright\", \"minute\", \"office\", \"mounted\", \"constructed\", \"edison\", \"soci\\u00e9t\\u00e9\", \"sauvestre\", \"bottom\", \"taller\", \"chrysler\", \"diameter\", \"exploitation\", \"staircase\", \"ascent\", \"lattice\", \"journey\", \"engineer\", \"universelle\", \"visitor\", \"replaced\", \"height\", \"installed\", \"second\", \"drawing\", \"pillar\", \"television\", \"aerial\", \"protest\", \"design\", \"france\", \"french\", \"building\", \"company\", \"million\", \"original\", \"public\", \"system\", \"engineering\", \"various\", \"structural\", \"mechanism\"], \"Total\": [59.0, 49.0, 28.0, 95.0, 82.0, 72.0, 16.0, 16.0, 56.0, 64.0, 21.0, 21.0, 47.0, 11.0, 11.0, 15.0, 13.0, 10.0, 40.0, 8.0, 8.0, 36.0, 11.0, 15.0, 8.0, 11.0, 32.0, 12.0, 7.0, 7.0, 28.27420425415039, 59.489410400390625, 16.282432556152344, 8.487029075622559, 8.48707389831543, 16.319503784179688, 5.489069938659668, 4.889667510986328, 4.289879322052002, 4.29002571105957, 3.690120220184326, 3.690178632736206, 3.6902506351470947, 3.6903717517852783, 3.6903676986694336, 3.6903891563415527, 3.6905477046966553, 3.09067440032959, 3.0907042026519775, 3.0907227993011475, 3.0907182693481445, 3.0907280445098877, 3.0907649993896484, 3.0907793045043945, 3.0907950401306152, 3.0907585620880127, 3.0908045768737793, 3.090850591659546, 3.090826988220215, 3.0908455848693848, 13.037575721740723, 15.752119064331055, 11.0824556350708, 9.8447847366333, 7.603394031524658, 6.569289684295654, 21.121614456176758, 4.327754020690918, 4.327663421630859, 7.641241550445557, 7.8441162109375, 15.37866497039795, 4.965168476104736, 11.8406982421875, 14.420920372009277, 14.563401222229004, 11.939273834228516, 14.803356170654297, 15.440027236938477, 21.35681915283203, 21.71006202697754, 11.248678207397461, 14.264820098876953, 95.59444427490234, 82.1524887084961, 72.91779327392578, 56.96205520629883, 47.72389221191406, 40.1633186340332, 36.803653717041016, 32.60565185546875, 30.085477828979492, 30.085168838500977, 64.31583404541016, 21.688234329223633, 20.84673500061035, 18.329761505126953, 18.329387664794922, 16.648096084594727, 15.809517860412598, 39.123714447021484, 14.130228042602539, 13.289153099060059, 12.450584411621094, 12.450366020202637, 12.449017524719238, 29.005847930908203, 11.610280990600586, 11.609926223754883, 11.609749794006348, 28.165225982666016, 10.771158218383789, 10.770992279052734, 41.95750427246094, 21.44859504699707, 58.86488723754883, 31.923131942749023, 18.96552085876465, 18.68893051147461, 21.0428466796875, 15.567801475524902, 20.80437660217285, 21.35681915283203, 49.77298355102539, 11.528226852416992, 11.528440475463867, 10.253462791442871, 8.34119701385498, 7.703385829925537, 7.703667640686035, 6.428774833679199, 6.428978443145752, 5.154152870178223, 4.516695499420166, 4.516617774963379, 4.5168843269348145, 3.8792316913604736, 3.8793091773986816, 3.87935471534729, 3.879457712173462, 3.2420101165771484, 3.2419817447662354, 3.242086887359619, 3.241971015930176, 3.2420098781585693, 3.2420597076416016, 3.242011070251465, 3.2420151233673096, 3.2419936656951904, 3.2420780658721924, 3.2420811653137207, 11.055660247802734, 2.604424238204956, 8.903005599975586, 5.753776550292969, 6.6314239501953125, 7.6281585693359375, 21.71006202697754, 5.116196155548096, 5.11629581451416, 5.116306304931641, 5.116491317749023, 5.116408348083496, 12.937653541564941, 11.939273834228516, 21.121614456176758, 11.662996292114258, 13.582382202148438, 14.420920372009277, 15.37866497039795, 14.264820098876953, 58.86488723754883, 9.555463790893555, 6.7959699630737305, 6.196660995483398, 7.876335144042969], \"loglift\": [30.0, 29.0, 28.0, 27.0, 26.0, 25.0, 24.0, 23.0, 22.0, 21.0, 20.0, 19.0, 18.0, 17.0, 16.0, 15.0, 14.0, 13.0, 12.0, 11.0, 10.0, 9.0, 8.0, 7.0, 6.0, 5.0, 4.0, 3.0, 2.0, 1.0, 1.7109999656677246, 1.7095999717712402, 1.6978000402450562, 1.6689000129699707, 1.6689000129699707, 1.656999945640564, 1.634600043296814, 1.6224000453948975, 1.6067999601364136, 1.606600046157837, 1.5857000350952148, 1.5856000185012817, 1.5855000019073486, 1.5853999853134155, 1.5853999853134155, 1.5852999687194824, 1.5851999521255493, 1.5551999807357788, 1.5551999807357788, 1.5551999807357788, 1.5550999641418457, 1.5550999641418457, 1.5550999641418457, 1.5550999641418457, 1.5549999475479126, 1.5549999475479126, 1.5549999475479126, 1.5549999475479126, 1.5549999475479126, 1.5549999475479126, 1.4428000450134277, 1.313099980354309, 1.239799976348877, 1.2661999464035034, 1.3092000484466553, 1.327299952507019, 0.9607999920845032, 1.426300048828125, 1.426300048828125, 1.1766999959945679, 1.1502000093460083, 0.8205999732017517, 1.2890000343322754, 0.739300012588501, 0.5421000123023987, 0.5322999954223633, 0.5835000276565552, 0.3700000047683716, 0.32839998602867126, -0.16619999706745148, -0.18459999561309814, 0.47279998660087585, 0.23489999771118164, 0.47999998927116394, 0.47920000553131104, 0.47859999537467957, 0.4771000146865845, 0.4756999909877777, 0.4738999903202057, 0.47290000319480896, 0.4715000092983246, 0.47040000557899475, 0.47040000557899475, 0.46779999136924744, 0.4650999903678894, 0.4641000032424927, 0.4616999924182892, 0.46160000562667847, 0.45910000801086426, 0.4578999876976013, 0.45719999074935913, 0.454800009727478, 0.4526999890804291, 0.45080000162124634, 0.4507000148296356, 0.4503999948501587, 0.4487999975681305, 0.448199987411499, 0.4481000006198883, 0.4481000006198883, 0.44760000705718994, 0.445499986410141, 0.445499986410141, 0.42980000376701355, 0.4361000061035156, 0.3986000120639801, 0.41130000352859497, 0.42730000615119934, 0.39430001378059387, 0.3693999946117401, 0.41690000891685486, 0.3352999985218048, 0.15729999542236328, 1.563099980354309, 1.5303000211715698, 1.5302000045776367, 1.5247999429702759, 1.5135999917984009, 1.5087000131607056, 1.5085999965667725, 1.495300054550171, 1.4951000213623047, 1.475100040435791, 1.4605000019073486, 1.4605000019073486, 1.4602999687194824, 1.4407999515533447, 1.4407999515533447, 1.4407000541687012, 1.440600037574768, 1.4127000570297241, 1.412600040435791, 1.412600040435791, 1.412600040435791, 1.412600040435791, 1.412600040435791, 1.412500023841858, 1.412500023841858, 1.412500023841858, 1.412500023841858, 1.412500023841858, 1.3818999528884888, 1.3694000244140625, 1.3638999462127686, 1.3651000261306763, 1.3509000539779663, 1.3243000507354736, 1.1949000358581543, 1.3358999490737915, 1.3358999490737915, 1.335800051689148, 1.335800051689148, 1.335800051689148, 1.1527999639511108, 1.1552000045776367, 0.9247999787330627, 1.0938999652862549, 0.9415000081062317, 0.8815000057220459, 0.8174999952316284, 0.800000011920929, -1.1029000282287598, 0.7116000056266785, 1.052299976348877, 1.1444000005722046, 0.9046000242233276], \"logprob\": [30.0, 29.0, 28.0, 27.0, 26.0, 25.0, 24.0, 23.0, 22.0, 21.0, 20.0, 19.0, 18.0, 17.0, 16.0, 15.0, 14.0, 13.0, 12.0, 11.0, 10.0, 9.0, 8.0, 7.0, 6.0, 5.0, 4.0, 3.0, 2.0, 1.0, -4.1178998947143555, -3.375499963760376, -4.683000087738037, -5.363399982452393, -5.363399982452393, -4.721499919891357, -5.833499908447266, -5.961400032043457, -6.107800006866455, -6.107999801635742, -6.2795000076293945, -6.279600143432617, -6.279699802398682, -6.279699802398682, -6.279799938201904, -6.279799938201904, -6.279900074005127, -6.487299919128418, -6.487299919128418, -6.487299919128418, -6.487299919128418, -6.487400054931641, -6.487400054931641, -6.487400054931641, -6.487400054931641, -6.487400054931641, -6.487400054931641, -6.487500190734863, -6.487500190734863, -6.487500190734863, -5.160299777984619, -5.100800037384033, -5.525700092315674, -5.617800235748291, -5.833099842071533, -5.961100101470947, -5.159800052642822, -6.2795000076293945, -6.279600143432617, -5.960599899291992, -5.960899829864502, -5.617300033569336, -6.2795000076293945, -5.960100173950195, -5.960000038146973, -5.960100173950195, -6.107500076293945, -6.105999946594238, -6.105500221252441, -6.275700092315674, -6.277699947357178, -6.277900218963623, -6.278200149536133, -4.13070011138916, -4.283100128173828, -4.402900218963623, -4.651400089263916, -4.829800128936768, -5.004000186920166, -5.092299938201904, -5.214799880981445, -5.29640007019043, -5.29640007019043, -4.539299964904785, -5.629000186920166, -5.66949987411499, -5.800600051879883, -5.8007001876831055, -5.899499893188477, -5.952300071716309, -5.046899795532227, -6.067699909210205, -6.131199836730957, -6.198299884796143, -6.198400020599365, -6.198800086975098, -5.354599952697754, -6.2708001136779785, -6.270899772644043, -6.270999908447266, -5.385200023651123, -6.348499774932861, -6.348499774932861, -5.00439977645874, -5.669099807739258, -4.697000026702881, -5.296199798583984, -5.800899982452393, -5.848599910736084, -5.755000114440918, -6.008800029754639, -5.8003997802734375, -5.952199935913086, -3.7002999782562256, -5.195799827575684, -5.195899963378906, -5.31850004196167, -5.536099910736084, -5.62060022354126, -5.620500087738037, -5.814799785614014, -5.814899921417236, -6.056000232696533, -6.202600002288818, -6.202600002288818, -6.2027997970581055, -6.3744001388549805, -6.3744001388549805, -6.374499797821045, -6.374499797821045, -6.581999778747559, -6.582099914550781, -6.582099914550781, -6.582099914550781, -6.582099914550781, -6.582099914550781, -6.582099914550781, -6.582099914550781, -6.582200050354004, -6.582200050354004, -6.582200050354004, -5.386099815368652, -6.844299793243408, -5.62060022354126, -6.0559000968933105, -5.928100109100342, -5.814700126647949, -4.898200035095215, -6.202499866485596, -6.202499866485596, -6.202600002288818, -6.202600002288818, -6.202600002288818, -5.458000183105469, -5.535900115966797, -5.195799827575684, -5.620500087738037, -5.62060022354126, -5.62060022354126, -5.6203999519348145, -5.713099956512451, -6.198599815368652, -6.202099800109863, -6.202199935913086, -6.202400207519531, -6.202400207519531]}, \"token.table\": {\"Topic\": [2, 1, 3, 2, 1, 2, 2, 2, 3, 2, 2, 3, 1, 2, 3, 1, 2, 3, 3, 2, 1, 1, 3, 2, 3, 3, 2, 3, 1, 1, 2, 3, 3, 3, 3, 1, 2, 1, 1, 2, 3, 1, 2, 3, 2, 3, 1, 2, 3, 1, 3, 1, 3, 3, 1, 2, 3, 2, 3, 1, 2, 3, 1, 1, 3, 1, 2, 3, 3, 1, 3, 1, 1, 1, 3, 2, 1, 1, 2, 3, 1, 1, 3, 2, 3, 1, 1, 2, 3, 1, 3, 1, 2, 3, 1, 3, 2, 2, 1, 3, 2, 1, 2, 2, 3, 2, 1, 1, 3, 2, 2, 3, 1, 2, 3, 3, 3, 3, 1, 2, 3, 2, 2, 3, 1, 2, 3, 1, 2, 3, 1, 3, 1, 2, 1, 2, 3, 1, 1, 2, 3, 1, 3, 1, 2, 2, 3, 1, 2, 2, 2, 1, 3, 1, 2, 3, 1, 2, 3, 1, 1, 3, 1, 2, 1, 2, 3, 1, 1, 1, 3, 2, 1, 2, 3, 1, 2, 3, 1, 1, 3, 3, 2, 3, 2, 3, 3, 1, 2, 3, 2, 1, 2, 3, 3, 3, 1, 2, 1, 3, 1, 2, 3, 1, 2, 3, 1, 2, 3, 1, 1, 2, 3, 1, 3, 1, 1], \"Freq\": [0.9284195899963379, 0.1954464316368103, 0.7817857265472412, 0.9781637787818909, 0.046623099595308304, 0.9324620366096497, 0.9971690773963928, 0.9874132871627808, 0.9253565073013306, 0.9474361538887024, 0.9907837510108948, 0.9253299236297607, 0.08574125915765762, 0.3429650366306305, 0.6001887917518616, 0.6348352432250977, 0.12696704268455505, 0.19045056402683258, 0.9253519177436829, 0.9638102054595947, 0.9706335067749023, 0.6932002305984497, 0.2310667335987091, 0.4417487382888794, 0.5153735280036926, 0.9333037734031677, 0.9712778925895691, 0.02555994503200054, 0.9706140160560608, 0.274661123752594, 0.6179875135421753, 0.0686652809381485, 0.7733244895935059, 0.9086913466453552, 0.8856184482574463, 0.8129816651344299, 0.9820095300674438, 0.9706289768218994, 0.2590669095516205, 0.6476672291755676, 0.12953345477581024, 0.0772937685251236, 0.3091750741004944, 0.6183501482009888, 0.9474794864654541, 0.9253376722335815, 0.523475170135498, 0.1308687925338745, 0.261737585067749, 0.19545771181583405, 0.7818308472633362, 0.8129224181175232, 0.7733039855957031, 0.9844698309898376, 0.09045140445232391, 0.09045140445232391, 0.8140626549720764, 0.5232608318328857, 0.4186086654663086, 0.03132524713873863, 0.9397574067115784, 0.03132524713873863, 0.9706240296363831, 0.6932147145271301, 0.2310715764760971, 0.2666980028152466, 0.7111946940422058, 0.9253515601158142, 0.9541620016098022, 0.335028737783432, 0.670057475566864, 0.9706355333328247, 0.9706525802612305, 0.47344866394996643, 0.5207934975624084, 0.9487955570220947, 0.8129271268844604, 0.04806680977344513, 0.8652025461196899, 0.04806680977344513, 0.9706481695175171, 0.9426149129867554, 0.9700915217399597, 0.15079717338085175, 0.7539858818054199, 0.932427167892456, 0.2702089846134186, 0.67552250623703, 0.06755224615335464, 0.8129262328147888, 0.9086580872535706, 0.04752208665013313, 0.9029196500778198, 0.04752208665013313, 0.13109323382377625, 0.7865594029426575, 0.9937816262245178, 0.9971588253974915, 0.9426099061965942, 0.9253315329551697, 0.9959336519241333, 0.6088938117027283, 0.30444690585136414, 0.9820295572280884, 0.9253324270248413, 0.9831106066703796, 0.9903019666671753, 0.9191455841064453, 0.06127637252211571, 0.9981438517570496, 0.5078504085540771, 0.5078504085540771, 0.277374804019928, 0.20803110301494598, 0.48540592193603516, 0.8855661749839783, 0.9332742691040039, 0.7733335494995117, 0.7670137882232666, 0.07670137286186218, 0.15340274572372437, 0.9848316311836243, 0.9814249277114868, 0.7733489871025085, 0.39015090465545654, 0.13005030155181885, 0.45517605543136597, 0.6576010584831238, 0.13152021169662476, 0.13152021169662476, 0.9749634265899658, 0.01680971495807171, 0.9706210494041443, 0.9474651217460632, 0.14047035574913025, 0.7023518085479736, 0.14047035574913025, 0.8129687905311584, 0.6094597578048706, 0.3047298789024353, 0.10157662630081177, 0.19545391201972961, 0.7818156480789185, 0.9826541543006897, 0.9610708355903625, 0.9795410633087158, 0.015548271127045155, 0.0642351433634758, 0.9635272026062012, 0.9639315009117126, 0.9782414436340332, 0.1954496055841446, 0.7817984223365784, 0.21030759811401367, 0.28041014075279236, 0.49071770906448364, 0.8129529356956482, 0.9490907192230225, 0.052727263420820236, 0.8180515170097351, 0.17379888892173767, 0.8689944744110107, 0.04766727611422539, 0.953345537185669, 0.03447580710053444, 0.9653225541114807, 0.9590949416160583, 0.9706619381904602, 0.9706066250801086, 0.9706450700759888, 0.9253599047660828, 0.9593828320503235, 0.13818477094173431, 0.18424636125564575, 0.6909238696098328, 0.337817907333374, 0.42227238416671753, 0.168908953666687, 0.932395339012146, 0.6042091250419617, 0.20140303671360016, 0.9253518581390381, 0.9638270735740662, 0.9253504276275635, 0.32275447249412537, 0.6455089449882507, 0.9541797041893005, 0.6316289901733398, 0.2706981301307678, 0.09023270756006241, 0.9682669043540955, 0.016988055780529976, 0.9173550009727478, 0.0679522231221199, 0.9253630042076111, 0.9752802848815918, 0.05350761115550995, 0.9096293449401855, 0.19545350968837738, 0.7818140387535095, 0.0355047732591629, 0.9586288928985596, 0.8856031894683838, 0.9706467390060425, 0.9284052848815918, 0.7679240703582764, 0.14714603126049042, 0.29429206252098083, 0.5885841250419617, 0.9109011292457581, 0.5099363327026367, 0.25496816635131836, 0.12748408317565918, 0.11232161521911621, 0.7862513065338135, 0.8128874897956848, 0.9706081748008728], \"Term\": [\"ability\", \"aerial\", \"aerial\", \"algorithm\", \"application\", \"application\", \"approach\", \"artificial\", \"ascent\", \"autonomous\", \"behavior\", \"bottom\", \"building\", \"building\", \"building\", \"century\", \"century\", \"century\", \"chrysler\", \"classifier\", \"cleaning\", \"column\", \"column\", \"company\", \"company\", \"completed\", \"computer\", \"computer\", \"conservation\", \"considered\", \"considered\", \"considered\", \"constructed\", \"construction\", \"copyright\", \"crosspiece\", \"decision\", \"denizard\", \"described\", \"described\", \"described\", \"design\", \"design\", \"design\", \"development\", \"diameter\", \"display\", \"display\", \"display\", \"drawing\", \"drawing\", \"earlier\", \"edison\", \"eiffel\", \"engineer\", \"engineer\", \"engineer\", \"engineering\", \"engineering\", \"example\", \"example\", \"example\", \"executed\", \"exhibited\", \"exhibited\", \"expert\", \"expert\", \"exploitation\", \"exposition\", \"france\", \"france\", \"francesco\", \"francis\", \"french\", \"french\", \"function\", \"gallery\", \"general\", \"general\", \"general\", \"gioconda\", \"giocondo\", \"gustave\", \"height\", \"height\", \"historian\", \"however\", \"however\", \"however\", \"humidity\", \"hydraulic\", \"include\", \"include\", \"include\", \"installed\", \"installed\", \"intelligence\", \"intelligent\", \"italian\", \"journey\", \"knowledge\", \"landscape\", \"landscape\", \"language\", \"lattice\", \"learning\", \"leonardo\", \"louvre\", \"louvre\", \"machine\", \"mechanism\", \"mechanism\", \"million\", \"million\", \"million\", \"minute\", \"monument\", \"mounted\", \"museum\", \"museum\", \"museum\", \"network\", \"neural\", \"office\", \"original\", \"original\", \"original\", \"painted\", \"painted\", \"painted\", \"painting\", \"painting\", \"palace\", \"patient\", \"people\", \"people\", \"people\", \"peruggia\", \"picture\", \"picture\", \"picture\", \"pillar\", \"pillar\", \"portrait\", \"possible\", \"problem\", \"problem\", \"process\", \"process\", \"processing\", \"program\", \"protest\", \"protest\", \"public\", \"public\", \"public\", \"raphael\", \"reasoning\", \"reasoning\", \"renaissance\", \"replaced\", \"replaced\", \"research\", \"research\", \"researcher\", \"researcher\", \"restaurant\", \"restorer\", \"revarnishing\", \"revealed\", \"sauvestre\", \"search\", \"second\", \"second\", \"second\", \"several\", \"several\", \"several\", \"sitter\", \"sketch\", \"sketch\", \"soci\\u00e9t\\u00e9\", \"solution\", \"staircase\", \"structural\", \"structural\", \"structure\", \"subject\", \"subject\", \"subject\", \"symbolic\", \"system\", \"system\", \"system\", \"taller\", \"tallest\", \"technology\", \"technology\", \"television\", \"television\", \"theory\", \"theory\", \"transmitter\", \"trimmed\", \"understanding\", \"universelle\", \"various\", \"various\", \"various\", \"vasari\", \"version\", \"version\", \"version\", \"visitor\", \"visitor\", \"warping\", \"z\\u00f6llner\"]}, \"R\": 30, \"lambda.step\": 0.01, \"plot.opts\": {\"xlab\": \"PC1\", \"ylab\": \"PC2\"}, \"topic.order\": [1, 2, 3]};\n",
              "\n",
              "function LDAvis_load_lib(url, callback){\n",
              "  var s = document.createElement('script');\n",
              "  s.src = url;\n",
              "  s.async = true;\n",
              "  s.onreadystatechange = s.onload = callback;\n",
              "  s.onerror = function(){console.warn(\"failed to load library \" + url);};\n",
              "  document.getElementsByTagName(\"head\")[0].appendChild(s);\n",
              "}\n",
              "\n",
              "if(typeof(LDAvis) !== \"undefined\"){\n",
              "   // already loaded: just create the visualization\n",
              "   !function(LDAvis){\n",
              "       new LDAvis(\"#\" + \"ldavis_el1271399833344776407244508303\", ldavis_el1271399833344776407244508303_data);\n",
              "   }(LDAvis);\n",
              "}else if(typeof define === \"function\" && define.amd){\n",
              "   // require.js is available: use it to load d3/LDAvis\n",
              "   require.config({paths: {d3: \"https://cdnjs.cloudflare.com/ajax/libs/d3/3.5.5/d3.min\"}});\n",
              "   require([\"d3\"], function(d3){\n",
              "      window.d3 = d3;\n",
              "      LDAvis_load_lib(\"https://cdn.rawgit.com/bmabey/pyLDAvis/files/ldavis.v1.0.0.js\", function(){\n",
              "        new LDAvis(\"#\" + \"ldavis_el1271399833344776407244508303\", ldavis_el1271399833344776407244508303_data);\n",
              "      });\n",
              "    });\n",
              "}else{\n",
              "    // require.js not available: dynamically load d3 & LDAvis\n",
              "    LDAvis_load_lib(\"https://cdnjs.cloudflare.com/ajax/libs/d3/3.5.5/d3.min.js\", function(){\n",
              "         LDAvis_load_lib(\"https://cdn.rawgit.com/bmabey/pyLDAvis/files/ldavis.v1.0.0.js\", function(){\n",
              "                 new LDAvis(\"#\" + \"ldavis_el1271399833344776407244508303\", ldavis_el1271399833344776407244508303_data);\n",
              "            })\n",
              "         });\n",
              "}\n",
              "</script>"
            ],
            "text/plain": [
              "<IPython.core.display.HTML object>"
            ]
          },
          "metadata": {
            "tags": []
          },
          "execution_count": 115
        }
      ]
    },
    {
      "cell_type": "code",
      "metadata": {
        "id": "rb8nXqsTzPqg",
        "colab_type": "code",
        "colab": {}
      },
      "source": [
        ""
      ],
      "execution_count": 0,
      "outputs": []
    }
  ]
}